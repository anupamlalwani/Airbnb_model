{
 "cells": [
  {
   "cell_type": "code",
   "execution_count": 1,
   "metadata": {
    "collapsed": true
   },
   "outputs": [],
   "source": [
    "import pandas as pd\n",
    "import webbrowser\n",
    "import os"
   ]
  },
  {
   "cell_type": "code",
   "execution_count": 60,
   "metadata": {},
   "outputs": [],
   "source": [
    "#reading csv into dataframe\n",
    "df = pd.read_csv('data/oct17-listings.csv', encoding='iso8859', index_col= 'row_id',usecols=['row_id','accommodates','bedrooms','bathrooms'])"
   ]
  },
  {
   "cell_type": "code",
   "execution_count": 61,
   "metadata": {
    "collapsed": true
   },
   "outputs": [],
   "source": [
    "#import model dependencies\n",
    "import pandas as pd\n",
    "from sklearn.model_selection import train_test_split\n",
    "from sklearn import ensemble\n",
    "from sklearn.metrics import mean_absolute_error,r2_score\n",
    "from sklearn.externals import joblib"
   ]
  },
  {
   "cell_type": "code",
   "execution_count": 62,
   "metadata": {},
   "outputs": [
    {
     "data": {
      "text/plain": [
       "(8933, 3)"
      ]
     },
     "execution_count": 62,
     "metadata": {},
     "output_type": "execute_result"
    }
   ],
   "source": [
    "## load df dataframe into another dataframe where we can delete unwanted columns and still have big dataset as is\n",
    "df.columns\n",
    "df.shape"
   ]
  },
  {
   "cell_type": "code",
   "execution_count": 63,
   "metadata": {},
   "outputs": [
    {
     "data": {
      "text/plain": [
       "accommodates     0\n",
       "bathrooms       31\n",
       "bedrooms         8\n",
       "dtype: int64"
      ]
     },
     "execution_count": 63,
     "metadata": {},
     "output_type": "execute_result"
    }
   ],
   "source": [
    "#finding out Nans\n",
    "df.isnull().sum()"
   ]
  },
  {
   "cell_type": "code",
   "execution_count": 80,
   "metadata": {},
   "outputs": [],
   "source": [
    "#replacing/filing Nans\n",
    "df.bathrooms = df['bathrooms'].fillna(1)\n",
    "df.bedrooms = df['bedrooms'].fillna(1)\n",
    "df.bedrooms = df.bedrooms.astype(np.int64)\n",
    "df.bathrooms = df.bathrooms.astype(np.int64)"
   ]
  },
  {
   "cell_type": "code",
   "execution_count": 217,
   "metadata": {
    "collapsed": true
   },
   "outputs": [],
   "source": [
    "X = df"
   ]
  },
  {
   "cell_type": "code",
   "execution_count": 218,
   "metadata": {},
   "outputs": [
    {
     "data": {
      "text/plain": [
       "(8933, 1)"
      ]
     },
     "execution_count": 218,
     "metadata": {},
     "output_type": "execute_result"
    }
   ],
   "source": [
    "y = pd.read_csv('data/oct17-listings.csv', encoding='iso8859', usecols=['price'])\n",
    "y = df_target.replace({'\\$':'',',':''},regex=True)\n",
    "y.values.reshape(-1,1)\n",
    "y.astype(np.float32) # use float 32 else, gradient boost model throws error for float 64\n",
    "y.shape"
   ]
  },
  {
   "cell_type": "code",
   "execution_count": 219,
   "metadata": {},
   "outputs": [
    {
     "data": {
      "text/plain": [
       "((6253, 3), (2680, 3), (6253, 1), (2680, 1))"
      ]
     },
     "execution_count": 219,
     "metadata": {},
     "output_type": "execute_result"
    }
   ],
   "source": [
    "# Split the data set in a training set (70%) and a test set (30%)\n",
    "X_train, X_test, y_train, y_test = train_test_split(X, y, test_size=0.3, random_state=0)\n",
    "X_train.shape, X_test.shape, y_train.shape, y_test.shape"
   ]
  },
  {
   "cell_type": "code",
   "execution_count": 93,
   "metadata": {},
   "outputs": [
    {
     "data": {
      "text/plain": [
       "accommodates    0\n",
       "bathrooms       0\n",
       "bedrooms        0\n",
       "dtype: int64"
      ]
     },
     "execution_count": 93,
     "metadata": {},
     "output_type": "execute_result"
    }
   ],
   "source": [
    "#checking nans\n",
    "X.isnull().sum()"
   ]
  },
  {
   "cell_type": "code",
   "execution_count": 94,
   "metadata": {},
   "outputs": [],
   "source": [
    "X.bathrooms = X.bathrooms.fillna(1)\n",
    "# X.bathrooms.isnull().sum()\n",
    "X.bedrooms = X.bedrooms.fillna(1)\n",
    "# X.bedrooms.isnull().sum()"
   ]
  },
  {
   "cell_type": "code",
   "execution_count": 95,
   "metadata": {},
   "outputs": [
    {
     "name": "stderr",
     "output_type": "stream",
     "text": [
      "/Users/manjeetchawla/anaconda/lib/python3.6/site-packages/sklearn/utils/validation.py:526: DataConversionWarning: A column-vector y was passed when a 1d array was expected. Please change the shape of y to (n_samples, ), for example using ravel().\n",
      "  y = column_or_1d(y, warn=True)\n"
     ]
    },
    {
     "data": {
      "text/plain": [
       "GradientBoostingRegressor(alpha=0.9, criterion='friedman_mse', init=None,\n",
       "             learning_rate=0.5, loss='huber', max_depth=6,\n",
       "             max_features=0.2, max_leaf_nodes=None,\n",
       "             min_impurity_split=1e-07, min_samples_leaf=5,\n",
       "             min_samples_split=2, min_weight_fraction_leaf=0.0,\n",
       "             n_estimators=1000, presort='auto', random_state=2,\n",
       "             subsample=1.0, verbose=0, warm_start=False)"
      ]
     },
     "execution_count": 95,
     "metadata": {},
     "output_type": "execute_result"
    }
   ],
   "source": [
    "# Fit regression model\n",
    "model = ensemble.GradientBoostingRegressor(\n",
    "    n_estimators=1000,\n",
    "    learning_rate=0.5,\n",
    "    max_depth=6,\n",
    "    min_samples_leaf=5,\n",
    "    max_features=0.2,\n",
    "    loss='huber',\n",
    "    random_state=2\n",
    ")\n",
    "model.fit(X_train, y_train)"
   ]
  },
  {
   "cell_type": "raw",
   "metadata": {
    "collapsed": true
   },
   "source": [
    "# Save the trained model to a file so we can use it in other programs\n",
    "joblib.dump(model, 'trained_house_classifier_model.pkl')\n",
    "\n",
    "\n",
    "'''\n",
    "After training a machine learning model, the next step is to measure how well the model performs. \n",
    "To check the accuracy of our model's predictions, we'll use a measure called mean absolute error. \n",
    "Mean absolute error looks at every prediction our model makes, and it gives us an average of how wrong it was \n",
    "across all the predictions. Scikit-learn provides a simple mean absolute error function that we can use to do this. \n",
    "To use it, we pass in the y values, or the correct answers for our training data set. \n",
    "Then we call model.predict on X, our training features.\n",
    "This will generate a prediction using our training model for each entry in our training data set. \n",
    "Scikit-learn will compare the predictions to the expected answers and tell us how close we are. \n",
    "Now let's do the exact same calculation for our test data set. \n",
    "The only difference here is to make sure to pass in the test data instead of the training data.\n",
    "Let's run this and see the result. Right-click, choose Run. \n",
    "For the training set, the mean absolute error is $48,727. \n",
    "That means our model was able to predict the value of every house in our training data set to \n",
    "within $48,000 of the real price.Considering the wide range of houses in our model, that's pretty good. \n",
    "For the test set, the mean absolute error was a bit higher at $59,225. \n",
    "This tells us that our model still works for houses it has never seen before, \n",
    "but not quite as well as for the training houses. \n",
    "The difference in these two numbers tells us a lot about how well the model is working.\n",
    "'''"
   ]
  },
  {
   "cell_type": "code",
   "execution_count": 98,
   "metadata": {},
   "outputs": [
    {
     "name": "stdout",
     "output_type": "stream",
     "text": [
      "Training Set Mean Absolute Error: 102.9156\n",
      "Test Set Mean Absolute Error: 108.6584\n",
      "r2 score: 0.1834\n"
     ]
    }
   ],
   "source": [
    "# Find the error rate on the training set\n",
    "mse = mean_absolute_error(y_train, model.predict(X_train))\n",
    "print(\"Training Set Mean Absolute Error: %.4f\" % mse)\n",
    "\n",
    "# Find the error rate on the test set\n",
    "mse = mean_absolute_error(y_test, model.predict(X_test))\n",
    "print(\"Test Set Mean Absolute Error: %.4f\" % mse)\n",
    "\n",
    "#r2 score\n",
    "r2 = r2_score(y_test, model.predict(X_test))\n",
    "print(\"r2 score: %.4f\" % r2)"
   ]
  },
  {
   "cell_type": "code",
   "execution_count": 99,
   "metadata": {},
   "outputs": [
    {
     "data": {
      "text/plain": [
       "array([ 213.9679313 ,  248.78055967,  248.78055967,  206.42020282,\n",
       "        141.60467523,  141.60467523,  201.41603269,  141.60467523,\n",
       "        141.60467523,  167.15080992])"
      ]
     },
     "execution_count": 99,
     "metadata": {},
     "output_type": "execute_result"
    }
   ],
   "source": [
    "#predicting results\n",
    "preds = model.predict(X_test)\n",
    "preds[:10]"
   ]
  },
  {
   "cell_type": "code",
   "execution_count": 215,
   "metadata": {
    "collapsed": true
   },
   "outputs": [],
   "source": [
    "# testing for custom values for input (accomodates, bedrooms, bathrooms)\n",
    "listing = [\n",
    "7, #accommodates\n",
    "2, #bedrooms\n",
    "2 #bathrooms\n",
    "]"
   ]
  },
  {
   "cell_type": "code",
   "execution_count": 216,
   "metadata": {},
   "outputs": [
    {
     "data": {
      "text/plain": [
       "array([ 340.96170133])"
      ]
     },
     "execution_count": 216,
     "metadata": {},
     "output_type": "execute_result"
    }
   ],
   "source": [
    "#putting it in another list\n",
    "calculate_price=[listing]\n",
    "\n",
    "#predicting new listing price\n",
    "predict_potential = model.predict(calculate_price)\n",
    "predict_potential"
   ]
  },
  {
   "cell_type": "markdown",
   "metadata": {},
   "source": [
    "## Model 2 "
   ]
  },
  {
   "cell_type": "code",
   "execution_count": 209,
   "metadata": {},
   "outputs": [],
   "source": [
    "# Fit regression model\n",
    "model2 = ensemble.GradientBoostingRegressor(\n",
    "    n_estimators=1000,\n",
    "    learning_rate=0.01,\n",
    "    max_depth=2,\n",
    "    min_samples_leaf=10,\n",
    "    max_features=2,\n",
    "    loss='ls',\n",
    "    random_state=200\n",
    ")"
   ]
  },
  {
   "cell_type": "code",
   "execution_count": 210,
   "metadata": {},
   "outputs": [
    {
     "name": "stderr",
     "output_type": "stream",
     "text": [
      "/Users/manjeetchawla/anaconda/lib/python3.6/site-packages/sklearn/utils/validation.py:526: DataConversionWarning: A column-vector y was passed when a 1d array was expected. Please change the shape of y to (n_samples, ), for example using ravel().\n",
      "  y = column_or_1d(y, warn=True)\n"
     ]
    },
    {
     "data": {
      "text/plain": [
       "GradientBoostingRegressor(alpha=0.9, criterion='friedman_mse', init=None,\n",
       "             learning_rate=0.01, loss='ls', max_depth=2, max_features=2,\n",
       "             max_leaf_nodes=None, min_impurity_split=1e-07,\n",
       "             min_samples_leaf=10, min_samples_split=2,\n",
       "             min_weight_fraction_leaf=0.0, n_estimators=1000,\n",
       "             presort='auto', random_state=200, subsample=1.0, verbose=0,\n",
       "             warm_start=False)"
      ]
     },
     "execution_count": 210,
     "metadata": {},
     "output_type": "execute_result"
    }
   ],
   "source": [
    "model2.fit(X_train, y_train)"
   ]
  },
  {
   "cell_type": "code",
   "execution_count": 211,
   "metadata": {},
   "outputs": [
    {
     "name": "stdout",
     "output_type": "stream",
     "text": [
      "Training Set Mean Absolute Error: 127.3404\n",
      "Test Set Mean Absolute Error: 121.8507\n",
      "r2 score: 0.2542\n"
     ]
    }
   ],
   "source": [
    "# Find the error rate on the training set\n",
    "\n",
    "mse = mean_absolute_error(y_train, model2.predict(X_train))\n",
    "print(\"Training Set Mean Absolute Error: %.4f\" % mse)\n",
    "\n",
    "# Find the error rate on the test set\n",
    "mse = mean_absolute_error(y_test, model2.predict(X_test))\n",
    "print(\"Test Set Mean Absolute Error: %.4f\" % mse)\n",
    "\n",
    "#r2 score\n",
    "pred2 = model2.predict(X_test)\n",
    "r2 = r2_score(y_test, pred2)\n",
    "print(\"r2 score: %.4f\" % r2)"
   ]
  },
  {
   "cell_type": "markdown",
   "metadata": {},
   "source": [
    "## <font color='skyblue'>Model 3 - using amenities in Amenities notebook</font>"
   ]
  },
  {
   "cell_type": "markdown",
   "metadata": {},
   "source": [
    "## Transfering model to pickle file so it can be accessed from other files"
   ]
  },
  {
   "cell_type": "code",
   "execution_count": 212,
   "metadata": {},
   "outputs": [
    {
     "data": {
      "text/plain": [
       "['potential_listing_price.pkl']"
      ]
     },
     "execution_count": 212,
     "metadata": {},
     "output_type": "execute_result"
    }
   ],
   "source": [
    "joblib.dump(model2, 'potential_listing_price.pkl')"
   ]
  },
  {
   "cell_type": "markdown",
   "metadata": {},
   "source": [
    "## GB Model using <font color='green'>Neighborhood feature</font>"
   ]
  },
  {
   "cell_type": "code",
   "execution_count": 271,
   "metadata": {},
   "outputs": [
    {
     "data": {
      "text/html": [
       "<div>\n",
       "<style>\n",
       "    .dataframe thead tr:only-child th {\n",
       "        text-align: right;\n",
       "    }\n",
       "\n",
       "    .dataframe thead th {\n",
       "        text-align: left;\n",
       "    }\n",
       "\n",
       "    .dataframe tbody tr th {\n",
       "        vertical-align: top;\n",
       "    }\n",
       "</style>\n",
       "<table border=\"1\" class=\"dataframe\">\n",
       "  <thead>\n",
       "    <tr style=\"text-align: right;\">\n",
       "      <th></th>\n",
       "      <th>neighbourhood_cleansed</th>\n",
       "    </tr>\n",
       "  </thead>\n",
       "  <tbody>\n",
       "    <tr>\n",
       "      <th>0</th>\n",
       "      <td>Seacliff</td>\n",
       "    </tr>\n",
       "    <tr>\n",
       "      <th>1</th>\n",
       "      <td>Seacliff</td>\n",
       "    </tr>\n",
       "    <tr>\n",
       "      <th>2</th>\n",
       "      <td>Seacliff</td>\n",
       "    </tr>\n",
       "    <tr>\n",
       "      <th>3</th>\n",
       "      <td>Seacliff</td>\n",
       "    </tr>\n",
       "    <tr>\n",
       "      <th>4</th>\n",
       "      <td>Seacliff</td>\n",
       "    </tr>\n",
       "  </tbody>\n",
       "</table>\n",
       "</div>"
      ],
      "text/plain": [
       "  neighbourhood_cleansed\n",
       "0               Seacliff\n",
       "1               Seacliff\n",
       "2               Seacliff\n",
       "3               Seacliff\n",
       "4               Seacliff"
      ]
     },
     "execution_count": 271,
     "metadata": {},
     "output_type": "execute_result"
    }
   ],
   "source": [
    "## creating dummies for neighborhood column from main df and concatinating with X\n",
    "\n",
    "nb = pd.read_csv('data/oct17-listings.csv', encoding='iso8859', usecols=['neighbourhood_cleansed'])\n",
    "nb.head()"
   ]
  },
  {
   "cell_type": "code",
   "execution_count": 272,
   "metadata": {},
   "outputs": [
    {
     "data": {
      "text/html": [
       "<div>\n",
       "<style>\n",
       "    .dataframe thead tr:only-child th {\n",
       "        text-align: right;\n",
       "    }\n",
       "\n",
       "    .dataframe thead th {\n",
       "        text-align: left;\n",
       "    }\n",
       "\n",
       "    .dataframe tbody tr th {\n",
       "        vertical-align: top;\n",
       "    }\n",
       "</style>\n",
       "<table border=\"1\" class=\"dataframe\">\n",
       "  <thead>\n",
       "    <tr style=\"text-align: right;\">\n",
       "      <th></th>\n",
       "      <th>neighbourhood_cleansed_Bernal Heights</th>\n",
       "      <th>neighbourhood_cleansed_Castro/Upper Market</th>\n",
       "      <th>neighbourhood_cleansed_Chinatown</th>\n",
       "      <th>neighbourhood_cleansed_Crocker Amazon</th>\n",
       "      <th>neighbourhood_cleansed_Diamond Heights</th>\n",
       "      <th>neighbourhood_cleansed_Downtown/Civic Center</th>\n",
       "      <th>neighbourhood_cleansed_Excelsior</th>\n",
       "      <th>neighbourhood_cleansed_Financial District</th>\n",
       "      <th>neighbourhood_cleansed_Glen Park</th>\n",
       "      <th>neighbourhood_cleansed_Golden Gate Park</th>\n",
       "      <th>...</th>\n",
       "      <th>neighbourhood_cleansed_Presidio</th>\n",
       "      <th>neighbourhood_cleansed_Presidio Heights</th>\n",
       "      <th>neighbourhood_cleansed_Russian Hill</th>\n",
       "      <th>neighbourhood_cleansed_Seacliff</th>\n",
       "      <th>neighbourhood_cleansed_South of Market</th>\n",
       "      <th>neighbourhood_cleansed_Treasure Island/YBI</th>\n",
       "      <th>neighbourhood_cleansed_Twin Peaks</th>\n",
       "      <th>neighbourhood_cleansed_Visitacion Valley</th>\n",
       "      <th>neighbourhood_cleansed_West of Twin Peaks</th>\n",
       "      <th>neighbourhood_cleansed_Western Addition</th>\n",
       "    </tr>\n",
       "  </thead>\n",
       "  <tbody>\n",
       "    <tr>\n",
       "      <th>0</th>\n",
       "      <td>0</td>\n",
       "      <td>0</td>\n",
       "      <td>0</td>\n",
       "      <td>0</td>\n",
       "      <td>0</td>\n",
       "      <td>0</td>\n",
       "      <td>0</td>\n",
       "      <td>0</td>\n",
       "      <td>0</td>\n",
       "      <td>0</td>\n",
       "      <td>...</td>\n",
       "      <td>0</td>\n",
       "      <td>0</td>\n",
       "      <td>0</td>\n",
       "      <td>1</td>\n",
       "      <td>0</td>\n",
       "      <td>0</td>\n",
       "      <td>0</td>\n",
       "      <td>0</td>\n",
       "      <td>0</td>\n",
       "      <td>0</td>\n",
       "    </tr>\n",
       "    <tr>\n",
       "      <th>1</th>\n",
       "      <td>0</td>\n",
       "      <td>0</td>\n",
       "      <td>0</td>\n",
       "      <td>0</td>\n",
       "      <td>0</td>\n",
       "      <td>0</td>\n",
       "      <td>0</td>\n",
       "      <td>0</td>\n",
       "      <td>0</td>\n",
       "      <td>0</td>\n",
       "      <td>...</td>\n",
       "      <td>0</td>\n",
       "      <td>0</td>\n",
       "      <td>0</td>\n",
       "      <td>1</td>\n",
       "      <td>0</td>\n",
       "      <td>0</td>\n",
       "      <td>0</td>\n",
       "      <td>0</td>\n",
       "      <td>0</td>\n",
       "      <td>0</td>\n",
       "    </tr>\n",
       "    <tr>\n",
       "      <th>2</th>\n",
       "      <td>0</td>\n",
       "      <td>0</td>\n",
       "      <td>0</td>\n",
       "      <td>0</td>\n",
       "      <td>0</td>\n",
       "      <td>0</td>\n",
       "      <td>0</td>\n",
       "      <td>0</td>\n",
       "      <td>0</td>\n",
       "      <td>0</td>\n",
       "      <td>...</td>\n",
       "      <td>0</td>\n",
       "      <td>0</td>\n",
       "      <td>0</td>\n",
       "      <td>1</td>\n",
       "      <td>0</td>\n",
       "      <td>0</td>\n",
       "      <td>0</td>\n",
       "      <td>0</td>\n",
       "      <td>0</td>\n",
       "      <td>0</td>\n",
       "    </tr>\n",
       "    <tr>\n",
       "      <th>3</th>\n",
       "      <td>0</td>\n",
       "      <td>0</td>\n",
       "      <td>0</td>\n",
       "      <td>0</td>\n",
       "      <td>0</td>\n",
       "      <td>0</td>\n",
       "      <td>0</td>\n",
       "      <td>0</td>\n",
       "      <td>0</td>\n",
       "      <td>0</td>\n",
       "      <td>...</td>\n",
       "      <td>0</td>\n",
       "      <td>0</td>\n",
       "      <td>0</td>\n",
       "      <td>1</td>\n",
       "      <td>0</td>\n",
       "      <td>0</td>\n",
       "      <td>0</td>\n",
       "      <td>0</td>\n",
       "      <td>0</td>\n",
       "      <td>0</td>\n",
       "    </tr>\n",
       "    <tr>\n",
       "      <th>4</th>\n",
       "      <td>0</td>\n",
       "      <td>0</td>\n",
       "      <td>0</td>\n",
       "      <td>0</td>\n",
       "      <td>0</td>\n",
       "      <td>0</td>\n",
       "      <td>0</td>\n",
       "      <td>0</td>\n",
       "      <td>0</td>\n",
       "      <td>0</td>\n",
       "      <td>...</td>\n",
       "      <td>0</td>\n",
       "      <td>0</td>\n",
       "      <td>0</td>\n",
       "      <td>1</td>\n",
       "      <td>0</td>\n",
       "      <td>0</td>\n",
       "      <td>0</td>\n",
       "      <td>0</td>\n",
       "      <td>0</td>\n",
       "      <td>0</td>\n",
       "    </tr>\n",
       "  </tbody>\n",
       "</table>\n",
       "<p>5 rows × 36 columns</p>\n",
       "</div>"
      ],
      "text/plain": [
       "   neighbourhood_cleansed_Bernal Heights  \\\n",
       "0                                      0   \n",
       "1                                      0   \n",
       "2                                      0   \n",
       "3                                      0   \n",
       "4                                      0   \n",
       "\n",
       "   neighbourhood_cleansed_Castro/Upper Market  \\\n",
       "0                                           0   \n",
       "1                                           0   \n",
       "2                                           0   \n",
       "3                                           0   \n",
       "4                                           0   \n",
       "\n",
       "   neighbourhood_cleansed_Chinatown  neighbourhood_cleansed_Crocker Amazon  \\\n",
       "0                                 0                                      0   \n",
       "1                                 0                                      0   \n",
       "2                                 0                                      0   \n",
       "3                                 0                                      0   \n",
       "4                                 0                                      0   \n",
       "\n",
       "   neighbourhood_cleansed_Diamond Heights  \\\n",
       "0                                       0   \n",
       "1                                       0   \n",
       "2                                       0   \n",
       "3                                       0   \n",
       "4                                       0   \n",
       "\n",
       "   neighbourhood_cleansed_Downtown/Civic Center  \\\n",
       "0                                             0   \n",
       "1                                             0   \n",
       "2                                             0   \n",
       "3                                             0   \n",
       "4                                             0   \n",
       "\n",
       "   neighbourhood_cleansed_Excelsior  \\\n",
       "0                                 0   \n",
       "1                                 0   \n",
       "2                                 0   \n",
       "3                                 0   \n",
       "4                                 0   \n",
       "\n",
       "   neighbourhood_cleansed_Financial District  \\\n",
       "0                                          0   \n",
       "1                                          0   \n",
       "2                                          0   \n",
       "3                                          0   \n",
       "4                                          0   \n",
       "\n",
       "   neighbourhood_cleansed_Glen Park  neighbourhood_cleansed_Golden Gate Park  \\\n",
       "0                                 0                                        0   \n",
       "1                                 0                                        0   \n",
       "2                                 0                                        0   \n",
       "3                                 0                                        0   \n",
       "4                                 0                                        0   \n",
       "\n",
       "                    ...                     neighbourhood_cleansed_Presidio  \\\n",
       "0                   ...                                                   0   \n",
       "1                   ...                                                   0   \n",
       "2                   ...                                                   0   \n",
       "3                   ...                                                   0   \n",
       "4                   ...                                                   0   \n",
       "\n",
       "   neighbourhood_cleansed_Presidio Heights  \\\n",
       "0                                        0   \n",
       "1                                        0   \n",
       "2                                        0   \n",
       "3                                        0   \n",
       "4                                        0   \n",
       "\n",
       "   neighbourhood_cleansed_Russian Hill  neighbourhood_cleansed_Seacliff  \\\n",
       "0                                    0                                1   \n",
       "1                                    0                                1   \n",
       "2                                    0                                1   \n",
       "3                                    0                                1   \n",
       "4                                    0                                1   \n",
       "\n",
       "   neighbourhood_cleansed_South of Market  \\\n",
       "0                                       0   \n",
       "1                                       0   \n",
       "2                                       0   \n",
       "3                                       0   \n",
       "4                                       0   \n",
       "\n",
       "   neighbourhood_cleansed_Treasure Island/YBI  \\\n",
       "0                                           0   \n",
       "1                                           0   \n",
       "2                                           0   \n",
       "3                                           0   \n",
       "4                                           0   \n",
       "\n",
       "   neighbourhood_cleansed_Twin Peaks  \\\n",
       "0                                  0   \n",
       "1                                  0   \n",
       "2                                  0   \n",
       "3                                  0   \n",
       "4                                  0   \n",
       "\n",
       "   neighbourhood_cleansed_Visitacion Valley  \\\n",
       "0                                         0   \n",
       "1                                         0   \n",
       "2                                         0   \n",
       "3                                         0   \n",
       "4                                         0   \n",
       "\n",
       "   neighbourhood_cleansed_West of Twin Peaks  \\\n",
       "0                                          0   \n",
       "1                                          0   \n",
       "2                                          0   \n",
       "3                                          0   \n",
       "4                                          0   \n",
       "\n",
       "   neighbourhood_cleansed_Western Addition  \n",
       "0                                        0  \n",
       "1                                        0  \n",
       "2                                        0  \n",
       "3                                        0  \n",
       "4                                        0  \n",
       "\n",
       "[5 rows x 36 columns]"
      ]
     },
     "execution_count": 272,
     "metadata": {},
     "output_type": "execute_result"
    }
   ],
   "source": [
    "nb= pd.get_dummies(nb, dummy_na=False, drop_first=True)\n",
    "nb.head()"
   ]
  },
  {
   "cell_type": "code",
   "execution_count": 273,
   "metadata": {},
   "outputs": [],
   "source": [
    "nb = nb.astype(np.int64)"
   ]
  },
  {
   "cell_type": "code",
   "execution_count": 274,
   "metadata": {
    "collapsed": true
   },
   "outputs": [],
   "source": [
    "df2 = pd.concat([df,nb], axis=1)"
   ]
  },
  {
   "cell_type": "code",
   "execution_count": 275,
   "metadata": {},
   "outputs": [
    {
     "data": {
      "text/html": [
       "<div>\n",
       "<style>\n",
       "    .dataframe thead tr:only-child th {\n",
       "        text-align: right;\n",
       "    }\n",
       "\n",
       "    .dataframe thead th {\n",
       "        text-align: left;\n",
       "    }\n",
       "\n",
       "    .dataframe tbody tr th {\n",
       "        vertical-align: top;\n",
       "    }\n",
       "</style>\n",
       "<table border=\"1\" class=\"dataframe\">\n",
       "  <thead>\n",
       "    <tr style=\"text-align: right;\">\n",
       "      <th></th>\n",
       "      <th>accommodates</th>\n",
       "      <th>bathrooms</th>\n",
       "      <th>bedrooms</th>\n",
       "      <th>neighbourhood_cleansed_Bernal Heights</th>\n",
       "      <th>neighbourhood_cleansed_Castro/Upper Market</th>\n",
       "      <th>neighbourhood_cleansed_Chinatown</th>\n",
       "      <th>neighbourhood_cleansed_Crocker Amazon</th>\n",
       "      <th>neighbourhood_cleansed_Diamond Heights</th>\n",
       "      <th>neighbourhood_cleansed_Downtown/Civic Center</th>\n",
       "      <th>neighbourhood_cleansed_Excelsior</th>\n",
       "      <th>...</th>\n",
       "      <th>neighbourhood_cleansed_Presidio</th>\n",
       "      <th>neighbourhood_cleansed_Presidio Heights</th>\n",
       "      <th>neighbourhood_cleansed_Russian Hill</th>\n",
       "      <th>neighbourhood_cleansed_Seacliff</th>\n",
       "      <th>neighbourhood_cleansed_South of Market</th>\n",
       "      <th>neighbourhood_cleansed_Treasure Island/YBI</th>\n",
       "      <th>neighbourhood_cleansed_Twin Peaks</th>\n",
       "      <th>neighbourhood_cleansed_Visitacion Valley</th>\n",
       "      <th>neighbourhood_cleansed_West of Twin Peaks</th>\n",
       "      <th>neighbourhood_cleansed_Western Addition</th>\n",
       "    </tr>\n",
       "  </thead>\n",
       "  <tbody>\n",
       "    <tr>\n",
       "      <th>0</th>\n",
       "      <td>NaN</td>\n",
       "      <td>NaN</td>\n",
       "      <td>NaN</td>\n",
       "      <td>0.0</td>\n",
       "      <td>0.0</td>\n",
       "      <td>0.0</td>\n",
       "      <td>0.0</td>\n",
       "      <td>0.0</td>\n",
       "      <td>0.0</td>\n",
       "      <td>0.0</td>\n",
       "      <td>...</td>\n",
       "      <td>0.0</td>\n",
       "      <td>0.0</td>\n",
       "      <td>0.0</td>\n",
       "      <td>1.0</td>\n",
       "      <td>0.0</td>\n",
       "      <td>0.0</td>\n",
       "      <td>0.0</td>\n",
       "      <td>0.0</td>\n",
       "      <td>0.0</td>\n",
       "      <td>0.0</td>\n",
       "    </tr>\n",
       "    <tr>\n",
       "      <th>1</th>\n",
       "      <td>2.0</td>\n",
       "      <td>1.0</td>\n",
       "      <td>1.0</td>\n",
       "      <td>0.0</td>\n",
       "      <td>0.0</td>\n",
       "      <td>0.0</td>\n",
       "      <td>0.0</td>\n",
       "      <td>0.0</td>\n",
       "      <td>0.0</td>\n",
       "      <td>0.0</td>\n",
       "      <td>...</td>\n",
       "      <td>0.0</td>\n",
       "      <td>0.0</td>\n",
       "      <td>0.0</td>\n",
       "      <td>1.0</td>\n",
       "      <td>0.0</td>\n",
       "      <td>0.0</td>\n",
       "      <td>0.0</td>\n",
       "      <td>0.0</td>\n",
       "      <td>0.0</td>\n",
       "      <td>0.0</td>\n",
       "    </tr>\n",
       "    <tr>\n",
       "      <th>2</th>\n",
       "      <td>2.0</td>\n",
       "      <td>1.0</td>\n",
       "      <td>0.0</td>\n",
       "      <td>0.0</td>\n",
       "      <td>0.0</td>\n",
       "      <td>0.0</td>\n",
       "      <td>0.0</td>\n",
       "      <td>0.0</td>\n",
       "      <td>0.0</td>\n",
       "      <td>0.0</td>\n",
       "      <td>...</td>\n",
       "      <td>0.0</td>\n",
       "      <td>0.0</td>\n",
       "      <td>0.0</td>\n",
       "      <td>1.0</td>\n",
       "      <td>0.0</td>\n",
       "      <td>0.0</td>\n",
       "      <td>0.0</td>\n",
       "      <td>0.0</td>\n",
       "      <td>0.0</td>\n",
       "      <td>0.0</td>\n",
       "    </tr>\n",
       "    <tr>\n",
       "      <th>3</th>\n",
       "      <td>6.0</td>\n",
       "      <td>2.0</td>\n",
       "      <td>3.0</td>\n",
       "      <td>0.0</td>\n",
       "      <td>0.0</td>\n",
       "      <td>0.0</td>\n",
       "      <td>0.0</td>\n",
       "      <td>0.0</td>\n",
       "      <td>0.0</td>\n",
       "      <td>0.0</td>\n",
       "      <td>...</td>\n",
       "      <td>0.0</td>\n",
       "      <td>0.0</td>\n",
       "      <td>0.0</td>\n",
       "      <td>1.0</td>\n",
       "      <td>0.0</td>\n",
       "      <td>0.0</td>\n",
       "      <td>0.0</td>\n",
       "      <td>0.0</td>\n",
       "      <td>0.0</td>\n",
       "      <td>0.0</td>\n",
       "    </tr>\n",
       "    <tr>\n",
       "      <th>4</th>\n",
       "      <td>4.0</td>\n",
       "      <td>2.0</td>\n",
       "      <td>2.0</td>\n",
       "      <td>0.0</td>\n",
       "      <td>0.0</td>\n",
       "      <td>0.0</td>\n",
       "      <td>0.0</td>\n",
       "      <td>0.0</td>\n",
       "      <td>0.0</td>\n",
       "      <td>0.0</td>\n",
       "      <td>...</td>\n",
       "      <td>0.0</td>\n",
       "      <td>0.0</td>\n",
       "      <td>0.0</td>\n",
       "      <td>1.0</td>\n",
       "      <td>0.0</td>\n",
       "      <td>0.0</td>\n",
       "      <td>0.0</td>\n",
       "      <td>0.0</td>\n",
       "      <td>0.0</td>\n",
       "      <td>0.0</td>\n",
       "    </tr>\n",
       "  </tbody>\n",
       "</table>\n",
       "<p>5 rows × 39 columns</p>\n",
       "</div>"
      ],
      "text/plain": [
       "   accommodates  bathrooms  bedrooms  neighbourhood_cleansed_Bernal Heights  \\\n",
       "0           NaN        NaN       NaN                                    0.0   \n",
       "1           2.0        1.0       1.0                                    0.0   \n",
       "2           2.0        1.0       0.0                                    0.0   \n",
       "3           6.0        2.0       3.0                                    0.0   \n",
       "4           4.0        2.0       2.0                                    0.0   \n",
       "\n",
       "   neighbourhood_cleansed_Castro/Upper Market  \\\n",
       "0                                         0.0   \n",
       "1                                         0.0   \n",
       "2                                         0.0   \n",
       "3                                         0.0   \n",
       "4                                         0.0   \n",
       "\n",
       "   neighbourhood_cleansed_Chinatown  neighbourhood_cleansed_Crocker Amazon  \\\n",
       "0                               0.0                                    0.0   \n",
       "1                               0.0                                    0.0   \n",
       "2                               0.0                                    0.0   \n",
       "3                               0.0                                    0.0   \n",
       "4                               0.0                                    0.0   \n",
       "\n",
       "   neighbourhood_cleansed_Diamond Heights  \\\n",
       "0                                     0.0   \n",
       "1                                     0.0   \n",
       "2                                     0.0   \n",
       "3                                     0.0   \n",
       "4                                     0.0   \n",
       "\n",
       "   neighbourhood_cleansed_Downtown/Civic Center  \\\n",
       "0                                           0.0   \n",
       "1                                           0.0   \n",
       "2                                           0.0   \n",
       "3                                           0.0   \n",
       "4                                           0.0   \n",
       "\n",
       "   neighbourhood_cleansed_Excelsior                   ...                     \\\n",
       "0                               0.0                   ...                      \n",
       "1                               0.0                   ...                      \n",
       "2                               0.0                   ...                      \n",
       "3                               0.0                   ...                      \n",
       "4                               0.0                   ...                      \n",
       "\n",
       "   neighbourhood_cleansed_Presidio  neighbourhood_cleansed_Presidio Heights  \\\n",
       "0                              0.0                                      0.0   \n",
       "1                              0.0                                      0.0   \n",
       "2                              0.0                                      0.0   \n",
       "3                              0.0                                      0.0   \n",
       "4                              0.0                                      0.0   \n",
       "\n",
       "   neighbourhood_cleansed_Russian Hill  neighbourhood_cleansed_Seacliff  \\\n",
       "0                                  0.0                              1.0   \n",
       "1                                  0.0                              1.0   \n",
       "2                                  0.0                              1.0   \n",
       "3                                  0.0                              1.0   \n",
       "4                                  0.0                              1.0   \n",
       "\n",
       "   neighbourhood_cleansed_South of Market  \\\n",
       "0                                     0.0   \n",
       "1                                     0.0   \n",
       "2                                     0.0   \n",
       "3                                     0.0   \n",
       "4                                     0.0   \n",
       "\n",
       "   neighbourhood_cleansed_Treasure Island/YBI  \\\n",
       "0                                         0.0   \n",
       "1                                         0.0   \n",
       "2                                         0.0   \n",
       "3                                         0.0   \n",
       "4                                         0.0   \n",
       "\n",
       "   neighbourhood_cleansed_Twin Peaks  \\\n",
       "0                                0.0   \n",
       "1                                0.0   \n",
       "2                                0.0   \n",
       "3                                0.0   \n",
       "4                                0.0   \n",
       "\n",
       "   neighbourhood_cleansed_Visitacion Valley  \\\n",
       "0                                       0.0   \n",
       "1                                       0.0   \n",
       "2                                       0.0   \n",
       "3                                       0.0   \n",
       "4                                       0.0   \n",
       "\n",
       "   neighbourhood_cleansed_West of Twin Peaks  \\\n",
       "0                                        0.0   \n",
       "1                                        0.0   \n",
       "2                                        0.0   \n",
       "3                                        0.0   \n",
       "4                                        0.0   \n",
       "\n",
       "   neighbourhood_cleansed_Western Addition  \n",
       "0                                      0.0  \n",
       "1                                      0.0  \n",
       "2                                      0.0  \n",
       "3                                      0.0  \n",
       "4                                      0.0  \n",
       "\n",
       "[5 rows x 39 columns]"
      ]
     },
     "execution_count": 275,
     "metadata": {},
     "output_type": "execute_result"
    }
   ],
   "source": [
    "df2.head()"
   ]
  },
  {
   "cell_type": "code",
   "execution_count": 277,
   "metadata": {},
   "outputs": [],
   "source": [
    "df2 = df2.drop(df2.index[[0]])"
   ]
  },
  {
   "cell_type": "code",
   "execution_count": 278,
   "metadata": {},
   "outputs": [
    {
     "data": {
      "text/html": [
       "<div>\n",
       "<style>\n",
       "    .dataframe thead tr:only-child th {\n",
       "        text-align: right;\n",
       "    }\n",
       "\n",
       "    .dataframe thead th {\n",
       "        text-align: left;\n",
       "    }\n",
       "\n",
       "    .dataframe tbody tr th {\n",
       "        vertical-align: top;\n",
       "    }\n",
       "</style>\n",
       "<table border=\"1\" class=\"dataframe\">\n",
       "  <thead>\n",
       "    <tr style=\"text-align: right;\">\n",
       "      <th></th>\n",
       "      <th>accommodates</th>\n",
       "      <th>bathrooms</th>\n",
       "      <th>bedrooms</th>\n",
       "      <th>neighbourhood_cleansed_Bernal Heights</th>\n",
       "      <th>neighbourhood_cleansed_Castro/Upper Market</th>\n",
       "      <th>neighbourhood_cleansed_Chinatown</th>\n",
       "      <th>neighbourhood_cleansed_Crocker Amazon</th>\n",
       "      <th>neighbourhood_cleansed_Diamond Heights</th>\n",
       "      <th>neighbourhood_cleansed_Downtown/Civic Center</th>\n",
       "      <th>neighbourhood_cleansed_Excelsior</th>\n",
       "      <th>...</th>\n",
       "      <th>neighbourhood_cleansed_Presidio</th>\n",
       "      <th>neighbourhood_cleansed_Presidio Heights</th>\n",
       "      <th>neighbourhood_cleansed_Russian Hill</th>\n",
       "      <th>neighbourhood_cleansed_Seacliff</th>\n",
       "      <th>neighbourhood_cleansed_South of Market</th>\n",
       "      <th>neighbourhood_cleansed_Treasure Island/YBI</th>\n",
       "      <th>neighbourhood_cleansed_Twin Peaks</th>\n",
       "      <th>neighbourhood_cleansed_Visitacion Valley</th>\n",
       "      <th>neighbourhood_cleansed_West of Twin Peaks</th>\n",
       "      <th>neighbourhood_cleansed_Western Addition</th>\n",
       "    </tr>\n",
       "  </thead>\n",
       "  <tbody>\n",
       "    <tr>\n",
       "      <th>1</th>\n",
       "      <td>2.0</td>\n",
       "      <td>1.0</td>\n",
       "      <td>1.0</td>\n",
       "      <td>0.0</td>\n",
       "      <td>0.0</td>\n",
       "      <td>0.0</td>\n",
       "      <td>0.0</td>\n",
       "      <td>0.0</td>\n",
       "      <td>0.0</td>\n",
       "      <td>0.0</td>\n",
       "      <td>...</td>\n",
       "      <td>0.0</td>\n",
       "      <td>0.0</td>\n",
       "      <td>0.0</td>\n",
       "      <td>1.0</td>\n",
       "      <td>0.0</td>\n",
       "      <td>0.0</td>\n",
       "      <td>0.0</td>\n",
       "      <td>0.0</td>\n",
       "      <td>0.0</td>\n",
       "      <td>0.0</td>\n",
       "    </tr>\n",
       "    <tr>\n",
       "      <th>2</th>\n",
       "      <td>2.0</td>\n",
       "      <td>1.0</td>\n",
       "      <td>0.0</td>\n",
       "      <td>0.0</td>\n",
       "      <td>0.0</td>\n",
       "      <td>0.0</td>\n",
       "      <td>0.0</td>\n",
       "      <td>0.0</td>\n",
       "      <td>0.0</td>\n",
       "      <td>0.0</td>\n",
       "      <td>...</td>\n",
       "      <td>0.0</td>\n",
       "      <td>0.0</td>\n",
       "      <td>0.0</td>\n",
       "      <td>1.0</td>\n",
       "      <td>0.0</td>\n",
       "      <td>0.0</td>\n",
       "      <td>0.0</td>\n",
       "      <td>0.0</td>\n",
       "      <td>0.0</td>\n",
       "      <td>0.0</td>\n",
       "    </tr>\n",
       "    <tr>\n",
       "      <th>3</th>\n",
       "      <td>6.0</td>\n",
       "      <td>2.0</td>\n",
       "      <td>3.0</td>\n",
       "      <td>0.0</td>\n",
       "      <td>0.0</td>\n",
       "      <td>0.0</td>\n",
       "      <td>0.0</td>\n",
       "      <td>0.0</td>\n",
       "      <td>0.0</td>\n",
       "      <td>0.0</td>\n",
       "      <td>...</td>\n",
       "      <td>0.0</td>\n",
       "      <td>0.0</td>\n",
       "      <td>0.0</td>\n",
       "      <td>1.0</td>\n",
       "      <td>0.0</td>\n",
       "      <td>0.0</td>\n",
       "      <td>0.0</td>\n",
       "      <td>0.0</td>\n",
       "      <td>0.0</td>\n",
       "      <td>0.0</td>\n",
       "    </tr>\n",
       "    <tr>\n",
       "      <th>4</th>\n",
       "      <td>4.0</td>\n",
       "      <td>2.0</td>\n",
       "      <td>2.0</td>\n",
       "      <td>0.0</td>\n",
       "      <td>0.0</td>\n",
       "      <td>0.0</td>\n",
       "      <td>0.0</td>\n",
       "      <td>0.0</td>\n",
       "      <td>0.0</td>\n",
       "      <td>0.0</td>\n",
       "      <td>...</td>\n",
       "      <td>0.0</td>\n",
       "      <td>0.0</td>\n",
       "      <td>0.0</td>\n",
       "      <td>1.0</td>\n",
       "      <td>0.0</td>\n",
       "      <td>0.0</td>\n",
       "      <td>0.0</td>\n",
       "      <td>0.0</td>\n",
       "      <td>0.0</td>\n",
       "      <td>0.0</td>\n",
       "    </tr>\n",
       "    <tr>\n",
       "      <th>5</th>\n",
       "      <td>7.0</td>\n",
       "      <td>2.0</td>\n",
       "      <td>3.0</td>\n",
       "      <td>0.0</td>\n",
       "      <td>0.0</td>\n",
       "      <td>0.0</td>\n",
       "      <td>0.0</td>\n",
       "      <td>0.0</td>\n",
       "      <td>0.0</td>\n",
       "      <td>0.0</td>\n",
       "      <td>...</td>\n",
       "      <td>0.0</td>\n",
       "      <td>0.0</td>\n",
       "      <td>0.0</td>\n",
       "      <td>1.0</td>\n",
       "      <td>0.0</td>\n",
       "      <td>0.0</td>\n",
       "      <td>0.0</td>\n",
       "      <td>0.0</td>\n",
       "      <td>0.0</td>\n",
       "      <td>0.0</td>\n",
       "    </tr>\n",
       "  </tbody>\n",
       "</table>\n",
       "<p>5 rows × 39 columns</p>\n",
       "</div>"
      ],
      "text/plain": [
       "   accommodates  bathrooms  bedrooms  neighbourhood_cleansed_Bernal Heights  \\\n",
       "1           2.0        1.0       1.0                                    0.0   \n",
       "2           2.0        1.0       0.0                                    0.0   \n",
       "3           6.0        2.0       3.0                                    0.0   \n",
       "4           4.0        2.0       2.0                                    0.0   \n",
       "5           7.0        2.0       3.0                                    0.0   \n",
       "\n",
       "   neighbourhood_cleansed_Castro/Upper Market  \\\n",
       "1                                         0.0   \n",
       "2                                         0.0   \n",
       "3                                         0.0   \n",
       "4                                         0.0   \n",
       "5                                         0.0   \n",
       "\n",
       "   neighbourhood_cleansed_Chinatown  neighbourhood_cleansed_Crocker Amazon  \\\n",
       "1                               0.0                                    0.0   \n",
       "2                               0.0                                    0.0   \n",
       "3                               0.0                                    0.0   \n",
       "4                               0.0                                    0.0   \n",
       "5                               0.0                                    0.0   \n",
       "\n",
       "   neighbourhood_cleansed_Diamond Heights  \\\n",
       "1                                     0.0   \n",
       "2                                     0.0   \n",
       "3                                     0.0   \n",
       "4                                     0.0   \n",
       "5                                     0.0   \n",
       "\n",
       "   neighbourhood_cleansed_Downtown/Civic Center  \\\n",
       "1                                           0.0   \n",
       "2                                           0.0   \n",
       "3                                           0.0   \n",
       "4                                           0.0   \n",
       "5                                           0.0   \n",
       "\n",
       "   neighbourhood_cleansed_Excelsior                   ...                     \\\n",
       "1                               0.0                   ...                      \n",
       "2                               0.0                   ...                      \n",
       "3                               0.0                   ...                      \n",
       "4                               0.0                   ...                      \n",
       "5                               0.0                   ...                      \n",
       "\n",
       "   neighbourhood_cleansed_Presidio  neighbourhood_cleansed_Presidio Heights  \\\n",
       "1                              0.0                                      0.0   \n",
       "2                              0.0                                      0.0   \n",
       "3                              0.0                                      0.0   \n",
       "4                              0.0                                      0.0   \n",
       "5                              0.0                                      0.0   \n",
       "\n",
       "   neighbourhood_cleansed_Russian Hill  neighbourhood_cleansed_Seacliff  \\\n",
       "1                                  0.0                              1.0   \n",
       "2                                  0.0                              1.0   \n",
       "3                                  0.0                              1.0   \n",
       "4                                  0.0                              1.0   \n",
       "5                                  0.0                              1.0   \n",
       "\n",
       "   neighbourhood_cleansed_South of Market  \\\n",
       "1                                     0.0   \n",
       "2                                     0.0   \n",
       "3                                     0.0   \n",
       "4                                     0.0   \n",
       "5                                     0.0   \n",
       "\n",
       "   neighbourhood_cleansed_Treasure Island/YBI  \\\n",
       "1                                         0.0   \n",
       "2                                         0.0   \n",
       "3                                         0.0   \n",
       "4                                         0.0   \n",
       "5                                         0.0   \n",
       "\n",
       "   neighbourhood_cleansed_Twin Peaks  \\\n",
       "1                                0.0   \n",
       "2                                0.0   \n",
       "3                                0.0   \n",
       "4                                0.0   \n",
       "5                                0.0   \n",
       "\n",
       "   neighbourhood_cleansed_Visitacion Valley  \\\n",
       "1                                       0.0   \n",
       "2                                       0.0   \n",
       "3                                       0.0   \n",
       "4                                       0.0   \n",
       "5                                       0.0   \n",
       "\n",
       "   neighbourhood_cleansed_West of Twin Peaks  \\\n",
       "1                                        0.0   \n",
       "2                                        0.0   \n",
       "3                                        0.0   \n",
       "4                                        0.0   \n",
       "5                                        0.0   \n",
       "\n",
       "   neighbourhood_cleansed_Western Addition  \n",
       "1                                      0.0  \n",
       "2                                      0.0  \n",
       "3                                      0.0  \n",
       "4                                      0.0  \n",
       "5                                      0.0  \n",
       "\n",
       "[5 rows x 39 columns]"
      ]
     },
     "execution_count": 278,
     "metadata": {},
     "output_type": "execute_result"
    }
   ],
   "source": [
    "df2.head()"
   ]
  },
  {
   "cell_type": "code",
   "execution_count": 299,
   "metadata": {},
   "outputs": [],
   "source": [
    "df2 = df2.fillna(0)"
   ]
  },
  {
   "cell_type": "code",
   "execution_count": 300,
   "metadata": {},
   "outputs": [
    {
     "data": {
      "text/plain": [
       "accommodates                                    0\n",
       "bathrooms                                       0\n",
       "bedrooms                                        0\n",
       "neighbourhood_cleansed_Bernal Heights           0\n",
       "neighbourhood_cleansed_Castro/Upper Market      0\n",
       "neighbourhood_cleansed_Chinatown                0\n",
       "neighbourhood_cleansed_Crocker Amazon           0\n",
       "neighbourhood_cleansed_Diamond Heights          0\n",
       "neighbourhood_cleansed_Downtown/Civic Center    0\n",
       "neighbourhood_cleansed_Excelsior                0\n",
       "neighbourhood_cleansed_Financial District       0\n",
       "neighbourhood_cleansed_Glen Park                0\n",
       "neighbourhood_cleansed_Golden Gate Park         0\n",
       "neighbourhood_cleansed_Haight Ashbury           0\n",
       "neighbourhood_cleansed_Inner Richmond           0\n",
       "neighbourhood_cleansed_Inner Sunset             0\n",
       "neighbourhood_cleansed_Lakeshore                0\n",
       "neighbourhood_cleansed_Marina                   0\n",
       "neighbourhood_cleansed_Mission                  0\n",
       "neighbourhood_cleansed_Nob Hill                 0\n",
       "neighbourhood_cleansed_Noe Valley               0\n",
       "neighbourhood_cleansed_North Beach              0\n",
       "neighbourhood_cleansed_Ocean View               0\n",
       "neighbourhood_cleansed_Outer Mission            0\n",
       "neighbourhood_cleansed_Outer Richmond           0\n",
       "neighbourhood_cleansed_Outer Sunset             0\n",
       "neighbourhood_cleansed_Pacific Heights          0\n",
       "neighbourhood_cleansed_Parkside                 0\n",
       "neighbourhood_cleansed_Potrero Hill             0\n",
       "neighbourhood_cleansed_Presidio                 0\n",
       "neighbourhood_cleansed_Presidio Heights         0\n",
       "neighbourhood_cleansed_Russian Hill             0\n",
       "neighbourhood_cleansed_Seacliff                 0\n",
       "neighbourhood_cleansed_South of Market          0\n",
       "neighbourhood_cleansed_Treasure Island/YBI      0\n",
       "neighbourhood_cleansed_Twin Peaks               0\n",
       "neighbourhood_cleansed_Visitacion Valley        0\n",
       "neighbourhood_cleansed_West of Twin Peaks       0\n",
       "neighbourhood_cleansed_Western Addition         0\n",
       "dtype: int64"
      ]
     },
     "execution_count": 300,
     "metadata": {},
     "output_type": "execute_result"
    }
   ],
   "source": [
    "df2.isnull().sum()"
   ]
  },
  {
   "cell_type": "code",
   "execution_count": 301,
   "metadata": {},
   "outputs": [
    {
     "data": {
      "text/plain": [
       "((8933, 1), (8933, 39))"
      ]
     },
     "execution_count": 301,
     "metadata": {},
     "output_type": "execute_result"
    }
   ],
   "source": [
    "F = df2\n",
    "t =y\n",
    "t.shape, F.shape"
   ]
  },
  {
   "cell_type": "code",
   "execution_count": 302,
   "metadata": {},
   "outputs": [
    {
     "data": {
      "text/plain": [
       "((6253, 39), (2680, 39), (6253, 1), (2680, 1))"
      ]
     },
     "execution_count": 302,
     "metadata": {},
     "output_type": "execute_result"
    }
   ],
   "source": [
    "# Split the data set in a training set (70%) and a test set (30%)\n",
    "F_train, F_test, t_train, t_test = train_test_split(F, t, test_size=0.3, random_state=0)\n",
    "F_train.shape, F_test.shape, t_train.shape, t_test.shape"
   ]
  },
  {
   "cell_type": "code",
   "execution_count": 355,
   "metadata": {
    "collapsed": true
   },
   "outputs": [],
   "source": [
    "# Fit regression model\n",
    "model5 = ensemble.GradientBoostingRegressor(\n",
    "    n_estimators=3000,\n",
    "    learning_rate=0.15,\n",
    "    max_depth=5,\n",
    "    min_samples_leaf=30,\n",
    "    max_features=1,\n",
    "    loss='ls',\n",
    "    random_state=200\n",
    ") #r2score: 0.2866\n",
    "\n",
    "# model5 = ensemble.GradientBoostingRegressor(\n",
    "#     n_estimators=3000,\n",
    "#     learning_rate=0.1,\n",
    "#     max_depth=6,\n",
    "#     min_samples_leaf=10,\n",
    "#     max_features=1,\n",
    "#     loss='ls',\n",
    "#     random_state=200\n",
    "# ) #r2 score: 0.2575\n",
    "\n",
    "# model5 = ensemble.GradientBoostingRegressor(\n",
    "#     n_estimators=1000,\n",
    "#     learning_rate=0.01,\n",
    "#     max_depth=2,\n",
    "#     min_samples_leaf=10,\n",
    "#     max_features=2,\n",
    "#     loss='ls',\n",
    "#     random_state=200\n",
    "# ) # r2score : 0.2926"
   ]
  },
  {
   "cell_type": "code",
   "execution_count": 356,
   "metadata": {},
   "outputs": [
    {
     "name": "stderr",
     "output_type": "stream",
     "text": [
      "/Users/manjeetchawla/anaconda/lib/python3.6/site-packages/sklearn/utils/validation.py:526: DataConversionWarning: A column-vector y was passed when a 1d array was expected. Please change the shape of y to (n_samples, ), for example using ravel().\n",
      "  y = column_or_1d(y, warn=True)\n"
     ]
    },
    {
     "data": {
      "text/plain": [
       "GradientBoostingRegressor(alpha=0.9, criterion='friedman_mse', init=None,\n",
       "             learning_rate=0.15, loss='ls', max_depth=5, max_features=1,\n",
       "             max_leaf_nodes=None, min_impurity_split=1e-07,\n",
       "             min_samples_leaf=30, min_samples_split=2,\n",
       "             min_weight_fraction_leaf=0.0, n_estimators=3000,\n",
       "             presort='auto', random_state=200, subsample=1.0, verbose=0,\n",
       "             warm_start=False)"
      ]
     },
     "execution_count": 356,
     "metadata": {},
     "output_type": "execute_result"
    }
   ],
   "source": [
    "#fit the model\n",
    "model5.fit(F_train,t_train)"
   ]
  },
  {
   "cell_type": "code",
   "execution_count": 357,
   "metadata": {},
   "outputs": [
    {
     "name": "stdout",
     "output_type": "stream",
     "text": [
      "Training Set Mean Absolute Error: 124.5150\n",
      "Test Set Mean Absolute Error: 121.4072\n",
      "r2 score: 0.3023\n"
     ]
    }
   ],
   "source": [
    "## Find the error rate on the training set\n",
    "\n",
    "mse = mean_absolute_error(t_train, model5.predict(F_train))\n",
    "print(\"Training Set Mean Absolute Error: %.4f\" % mse)\n",
    "\n",
    "# Find the error rate on the test set\n",
    "mse = mean_absolute_error(t_test, model5.predict(F_test))\n",
    "print(\"Test Set Mean Absolute Error: %.4f\" % mse)\n",
    "\n",
    "#r2 score\n",
    "pred5 = model5.predict(F_test)\n",
    "r5 = r2_score(t_test, pred5)\n",
    "print(\"r2 score: %.4f\" % r5)"
   ]
  },
  {
   "cell_type": "code",
   "execution_count": 372,
   "metadata": {},
   "outputs": [],
   "source": [
    "features = [[\n",
    "5, #accommodates                                  \n",
    "2, #bathrooms                                      \n",
    "2, #bedrooms                                       \n",
    "0, #neighbourhood_cleansed_Bernal Heights          \n",
    "0, #neighbourhood_cleansed_Castro/Upper Market     \n",
    "0, #neighbourhood_cleansed_Chinatown               \n",
    "0, #neighbourhood_cleansed_Crocker Amazon          \n",
    "0, #neighbourhood_cleansed_Diamond Heights         \n",
    "0, #neighbourhood_cleansed_Downtown/Civic Center   \n",
    "0, #neighbourhood_cleansed_Excelsior               \n",
    "0, #neighbourhood_cleansed_Financial District      \n",
    "0, #neighbourhood_cleansed_Glen Park               \n",
    "0, #neighbourhood_cleansed_Golden Gate Park        \n",
    "0, #neighbourhood_cleansed_Haight Ashbury          \n",
    "0, #neighbourhood_cleansed_Inner Richmond          \n",
    "0, #neighbourhood_cleansed_Inner Sunset            \n",
    "0, #neighbourhood_cleansed_Lakeshore               \n",
    "0, #neighbourhood_cleansed_Marina                  \n",
    "0, #neighbourhood_cleansed_Mission                  \n",
    "0, #neighbourhood_cleansed_Nob Hill                 \n",
    "0, #neighbourhood_cleansed_Noe Valley               \n",
    "0, #neighbourhood_cleansed_North Beach              \n",
    "0, #neighbourhood_cleansed_Ocean View               \n",
    "0, #neighbourhood_cleansed_Outer Mission            \n",
    "0, #neighbourhood_cleansed_Outer Richmond           \n",
    "0, #neighbourhood_cleansed_Outer Sunset             \n",
    "0, #neighbourhood_cleansed_Pacific Heights          \n",
    "0, #neighbourhood_cleansed_Parkside                 \n",
    "0, #neighbourhood_cleansed_Potrero Hill             \n",
    "0, #neighbourhood_cleansed_Presidio                 \n",
    "1, #neighbourhood_cleansed_Presidio Heights         \n",
    "0, #neighbourhood_cleansed_Russian Hill             \n",
    "0, #neighbourhood_cleansed_Seacliff                 \n",
    "0, #neighbourhood_cleansed_South of Market          \n",
    "0, #neighbourhood_cleansed_Treasure Island/YBI      \n",
    "0, #neighbourhood_cleansed_Twin Peaks               \n",
    "0, #neighbourhood_cleansed_Visitacion Valley        \n",
    "0, #neighbourhood_cleansed_West of Twin Peaks       \n",
    "0 #neighbourhood_cleansed_Western Addition\n",
    "]]"
   ]
  },
  {
   "cell_type": "code",
   "execution_count": 400,
   "metadata": {},
   "outputs": [
    {
     "name": "stdout",
     "output_type": "stream",
     "text": [
      "Your airbnb listing price should be approx: $406.68\n"
     ]
    }
   ],
   "source": [
    "#predict price with given features\n",
    "estimate = model5.predict(features)\n",
    "print('Your airbnb listing price should be approx: $%.2f' % estimate[0])"
   ]
  },
  {
   "cell_type": "code",
   "execution_count": 403,
   "metadata": {},
   "outputs": [
    {
     "data": {
      "text/plain": [
       "['predict_price_bd_bh_nb.pkl']"
      ]
     },
     "execution_count": 403,
     "metadata": {},
     "output_type": "execute_result"
    }
   ],
   "source": [
    "# saving model5 to pickle file to be used for predictions\n",
    "joblib.dump(model5, 'predict_price_bd_bh_nb.pkl')"
   ]
  },
  {
   "cell_type": "code",
   "execution_count": null,
   "metadata": {
    "collapsed": true
   },
   "outputs": [],
   "source": []
  }
 ],
 "metadata": {
  "kernelspec": {
   "display_name": "Python 3",
   "language": "python",
   "name": "python3"
  },
  "language_info": {
   "codemirror_mode": {
    "name": "ipython",
    "version": 3
   },
   "file_extension": ".py",
   "mimetype": "text/x-python",
   "name": "python",
   "nbconvert_exporter": "python",
   "pygments_lexer": "ipython3",
   "version": "3.6.1"
  }
 },
 "nbformat": 4,
 "nbformat_minor": 2
}
